{
 "cells": [
  {
   "cell_type": "markdown",
   "metadata": {},
   "source": [
    "# Information retrival project\n",
    "-user is reading about sachin blog\n",
    "-which other post u can recomend to that person\n",
    "-query A- Document A\n",
    "- which docs are similar to Docs A and pass on that as well"
   ]
  },
  {
   "cell_type": "code",
   "execution_count": 1,
   "metadata": {},
   "outputs": [],
   "source": [
    "import pandas as pd"
   ]
  },
  {
   "cell_type": "code",
   "execution_count": 2,
   "metadata": {},
   "outputs": [],
   "source": [
    "people = pd.read_csv('people_data.csv')"
   ]
  },
  {
   "cell_type": "code",
   "execution_count": 3,
   "metadata": {},
   "outputs": [
    {
     "data": {
      "text/html": [
       "<div>\n",
       "<style scoped>\n",
       "    .dataframe tbody tr th:only-of-type {\n",
       "        vertical-align: middle;\n",
       "    }\n",
       "\n",
       "    .dataframe tbody tr th {\n",
       "        vertical-align: top;\n",
       "    }\n",
       "\n",
       "    .dataframe thead th {\n",
       "        text-align: right;\n",
       "    }\n",
       "</style>\n",
       "<table border=\"1\" class=\"dataframe\">\n",
       "  <thead>\n",
       "    <tr style=\"text-align: right;\">\n",
       "      <th></th>\n",
       "      <th>URI</th>\n",
       "      <th>name</th>\n",
       "      <th>text</th>\n",
       "    </tr>\n",
       "  </thead>\n",
       "  <tbody>\n",
       "    <tr>\n",
       "      <th>0</th>\n",
       "      <td>&lt;http://dbpedia.org/resource/Bill_Clinton&gt;</td>\n",
       "      <td>Bill Clinton</td>\n",
       "      <td>william jefferson bill clinton born william je...</td>\n",
       "    </tr>\n",
       "    <tr>\n",
       "      <th>1</th>\n",
       "      <td>&lt;http://dbpedia.org/resource/Polyana_L%C3%B3pez&gt;</td>\n",
       "      <td>Polyana L%C3%B3pez</td>\n",
       "      <td>polyana lpez born circa 1985 is an argentine a...</td>\n",
       "    </tr>\n",
       "    <tr>\n",
       "      <th>2</th>\n",
       "      <td>&lt;http://dbpedia.org/resource/Harpdog_Brown&gt;</td>\n",
       "      <td>Harpdog Brown</td>\n",
       "      <td>harpdog brown is a singer and harmonica player...</td>\n",
       "    </tr>\n",
       "    <tr>\n",
       "      <th>3</th>\n",
       "      <td>&lt;http://dbpedia.org/resource/Franz_Rottensteiner&gt;</td>\n",
       "      <td>Franz Rottensteiner</td>\n",
       "      <td>franz rottensteiner born in waidmannsfeld lowe...</td>\n",
       "    </tr>\n",
       "    <tr>\n",
       "      <th>4</th>\n",
       "      <td>&lt;http://dbpedia.org/resource/G-Enka&gt;</td>\n",
       "      <td>G-Enka</td>\n",
       "      <td>henry krvits born 30 december 1974 in tallinn ...</td>\n",
       "    </tr>\n",
       "  </tbody>\n",
       "</table>\n",
       "</div>"
      ],
      "text/plain": [
       "                                                 URI                 name  \\\n",
       "0         <http://dbpedia.org/resource/Bill_Clinton>         Bill Clinton   \n",
       "1   <http://dbpedia.org/resource/Polyana_L%C3%B3pez>   Polyana L%C3%B3pez   \n",
       "2        <http://dbpedia.org/resource/Harpdog_Brown>        Harpdog Brown   \n",
       "3  <http://dbpedia.org/resource/Franz_Rottensteiner>  Franz Rottensteiner   \n",
       "4               <http://dbpedia.org/resource/G-Enka>               G-Enka   \n",
       "\n",
       "                                                text  \n",
       "0  william jefferson bill clinton born william je...  \n",
       "1  polyana lpez born circa 1985 is an argentine a...  \n",
       "2  harpdog brown is a singer and harmonica player...  \n",
       "3  franz rottensteiner born in waidmannsfeld lowe...  \n",
       "4  henry krvits born 30 december 1974 in tallinn ...  "
      ]
     },
     "execution_count": 3,
     "metadata": {},
     "output_type": "execute_result"
    }
   ],
   "source": [
    "people.head()"
   ]
  },
  {
   "cell_type": "code",
   "execution_count": 4,
   "metadata": {},
   "outputs": [],
   "source": [
    "#Replace all null values with \"NO Data\"\n",
    "people.fillna(\"No Data\", inplace = True )"
   ]
  },
  {
   "cell_type": "markdown",
   "metadata": {},
   "source": [
    "# using tfidf"
   ]
  },
  {
   "cell_type": "code",
   "execution_count": 5,
   "metadata": {},
   "outputs": [],
   "source": [
    "#converting text columns into tfidf values\n",
    "\n",
    "from sklearn.feature_extraction.text import TfidfVectorizer\n",
    "tfidf_vect = TfidfVectorizer() \n",
    "X_train_tfidf = tfidf_vect.fit_transform(people.text)"
   ]
  },
  {
   "cell_type": "code",
   "execution_count": 6,
   "metadata": {},
   "outputs": [
    {
     "data": {
      "text/plain": [
       "<59071x548412 sparse matrix of type '<class 'numpy.float64'>'\n",
       "\twith 10244123 stored elements in Compressed Sparse Row format>"
      ]
     },
     "execution_count": 6,
     "metadata": {},
     "output_type": "execute_result"
    }
   ],
   "source": [
    "X_train_tfidf"
   ]
  },
  {
   "cell_type": "code",
   "execution_count": 7,
   "metadata": {},
   "outputs": [
    {
     "data": {
      "text/plain": [
       "(59071, 3)"
      ]
     },
     "execution_count": 7,
     "metadata": {},
     "output_type": "execute_result"
    }
   ],
   "source": [
    "people.shape"
   ]
  },
  {
   "cell_type": "code",
   "execution_count": 8,
   "metadata": {},
   "outputs": [],
   "source": [
    "from sklearn.neighbors import NearestNeighbors"
   ]
  },
  {
   "cell_type": "code",
   "execution_count": 9,
   "metadata": {},
   "outputs": [],
   "source": [
    "nn = NearestNeighbors(n_neighbors=10)"
   ]
  },
  {
   "cell_type": "code",
   "execution_count": 10,
   "metadata": {},
   "outputs": [],
   "source": [
    "nn_fitted  = nn.fit(X_train_tfidf)"
   ]
  },
  {
   "cell_type": "markdown",
   "metadata": {},
   "source": [
    "# Find  Neighbors"
   ]
  },
  {
   "cell_type": "code",
   "execution_count": 11,
   "metadata": {},
   "outputs": [
    {
     "data": {
      "text/plain": [
       "48151"
      ]
     },
     "execution_count": 11,
     "metadata": {},
     "output_type": "execute_result"
    }
   ],
   "source": [
    "index = people[people.name.str.contains(\"amitabh\", case = False)].index[0]\n",
    "index"
   ]
  },
  {
   "cell_type": "code",
   "execution_count": 12,
   "metadata": {},
   "outputs": [],
   "source": [
    "# now find which all people are siilar to amitabah in people text"
   ]
  },
  {
   "cell_type": "code",
   "execution_count": 13,
   "metadata": {},
   "outputs": [
    {
     "data": {
      "text/plain": [
       "<1x548412 sparse matrix of type '<class 'numpy.float64'>'\n",
       "\twith 145 stored elements in Compressed Sparse Row format>"
      ]
     },
     "execution_count": 13,
     "metadata": {},
     "output_type": "execute_result"
    }
   ],
   "source": [
    "X_train_tfidf[index,:] #tfidf vector for amitabh"
   ]
  },
  {
   "cell_type": "code",
   "execution_count": 14,
   "metadata": {},
   "outputs": [],
   "source": [
    "score, neighbours = nn_fitted.kneighbors(X_train_tfidf[index,:])"
   ]
  },
  {
   "cell_type": "code",
   "execution_count": 16,
   "metadata": {},
   "outputs": [
    {
     "data": {
      "text/plain": [
       "array([0.        , 1.1450037 , 1.14516594, 1.15612104, 1.16326194,\n",
       "       1.1887013 , 1.1989314 , 1.2017944 , 1.20739367, 1.20792693])"
      ]
     },
     "execution_count": 16,
     "metadata": {},
     "output_type": "execute_result"
    }
   ],
   "source": [
    "score[0]"
   ]
  },
  {
   "cell_type": "code",
   "execution_count": 17,
   "metadata": {},
   "outputs": [
    {
     "data": {
      "text/plain": [
       "array([48151, 23229, 13267, 58790, 25394, 26948,   331, 41897, 50670,\n",
       "        7504])"
      ]
     },
     "execution_count": 17,
     "metadata": {},
     "output_type": "execute_result"
    }
   ],
   "source": [
    "neighbours[0]"
   ]
  },
  {
   "cell_type": "code",
   "execution_count": 19,
   "metadata": {},
   "outputs": [
    {
     "data": {
      "text/html": [
       "<div>\n",
       "<style scoped>\n",
       "    .dataframe tbody tr th:only-of-type {\n",
       "        vertical-align: middle;\n",
       "    }\n",
       "\n",
       "    .dataframe tbody tr th {\n",
       "        vertical-align: top;\n",
       "    }\n",
       "\n",
       "    .dataframe thead th {\n",
       "        text-align: right;\n",
       "    }\n",
       "</style>\n",
       "<table border=\"1\" class=\"dataframe\">\n",
       "  <thead>\n",
       "    <tr style=\"text-align: right;\">\n",
       "      <th></th>\n",
       "      <th>URI</th>\n",
       "      <th>name</th>\n",
       "      <th>text</th>\n",
       "    </tr>\n",
       "  </thead>\n",
       "  <tbody>\n",
       "    <tr>\n",
       "      <th>48151</th>\n",
       "      <td>&lt;http://dbpedia.org/resource/Amitabh_Bachchan&gt;</td>\n",
       "      <td>Amitabh Bachchan</td>\n",
       "      <td>amitabh harivansh bachchan ipa mtab bttn born ...</td>\n",
       "    </tr>\n",
       "    <tr>\n",
       "      <th>23229</th>\n",
       "      <td>&lt;http://dbpedia.org/resource/Dilip_Kumar&gt;</td>\n",
       "      <td>Dilip Kumar</td>\n",
       "      <td>dilip kumar born muhammad yusuf khan on 11 dec...</td>\n",
       "    </tr>\n",
       "    <tr>\n",
       "      <th>13267</th>\n",
       "      <td>&lt;http://dbpedia.org/resource/Aamir_Khan&gt;</td>\n",
       "      <td>Aamir Khan</td>\n",
       "      <td>aamir khan pronounced amr xan born mohammed aa...</td>\n",
       "    </tr>\n",
       "    <tr>\n",
       "      <th>58790</th>\n",
       "      <td>&lt;http://dbpedia.org/resource/Jaya_Bachchan&gt;</td>\n",
       "      <td>Jaya Bachchan</td>\n",
       "      <td>jaya bachchan bengali hindi urdu born jaya bha...</td>\n",
       "    </tr>\n",
       "    <tr>\n",
       "      <th>25394</th>\n",
       "      <td>&lt;http://dbpedia.org/resource/Mohanlal&gt;</td>\n",
       "      <td>Mohanlal</td>\n",
       "      <td>mohanlal viswanathan nair born 21 may 1960 bet...</td>\n",
       "    </tr>\n",
       "    <tr>\n",
       "      <th>26948</th>\n",
       "      <td>&lt;http://dbpedia.org/resource/Chiranjeevi&gt;</td>\n",
       "      <td>Chiranjeevi</td>\n",
       "      <td>chiranjeevi born konidela siva sankara vara pr...</td>\n",
       "    </tr>\n",
       "    <tr>\n",
       "      <th>331</th>\n",
       "      <td>&lt;http://dbpedia.org/resource/Mammootty&gt;</td>\n",
       "      <td>Mammootty</td>\n",
       "      <td>mammootty born as muhammad kutty ismail panipa...</td>\n",
       "    </tr>\n",
       "    <tr>\n",
       "      <th>41897</th>\n",
       "      <td>&lt;http://dbpedia.org/resource/K._J._Yesudas&gt;</td>\n",
       "      <td>K. J. Yesudas</td>\n",
       "      <td>kattassery joseph yesudas malayalam born 10 ja...</td>\n",
       "    </tr>\n",
       "    <tr>\n",
       "      <th>50670</th>\n",
       "      <td>&lt;http://dbpedia.org/resource/Jasbir_Singh_Bajaj&gt;</td>\n",
       "      <td>Jasbir Singh Bajaj</td>\n",
       "      <td>drjasbir singh bajaj is an indian physician an...</td>\n",
       "    </tr>\n",
       "    <tr>\n",
       "      <th>7504</th>\n",
       "      <td>&lt;http://dbpedia.org/resource/Rajinikanth&gt;</td>\n",
       "      <td>Rajinikanth</td>\n",
       "      <td>rajinikanth born shivaji rao gaekwad 12 decemb...</td>\n",
       "    </tr>\n",
       "  </tbody>\n",
       "</table>\n",
       "</div>"
      ],
      "text/plain": [
       "                                                    URI                name  \\\n",
       "48151    <http://dbpedia.org/resource/Amitabh_Bachchan>    Amitabh Bachchan   \n",
       "23229         <http://dbpedia.org/resource/Dilip_Kumar>         Dilip Kumar   \n",
       "13267          <http://dbpedia.org/resource/Aamir_Khan>          Aamir Khan   \n",
       "58790       <http://dbpedia.org/resource/Jaya_Bachchan>       Jaya Bachchan   \n",
       "25394            <http://dbpedia.org/resource/Mohanlal>            Mohanlal   \n",
       "26948         <http://dbpedia.org/resource/Chiranjeevi>         Chiranjeevi   \n",
       "331             <http://dbpedia.org/resource/Mammootty>           Mammootty   \n",
       "41897       <http://dbpedia.org/resource/K._J._Yesudas>       K. J. Yesudas   \n",
       "50670  <http://dbpedia.org/resource/Jasbir_Singh_Bajaj>  Jasbir Singh Bajaj   \n",
       "7504          <http://dbpedia.org/resource/Rajinikanth>         Rajinikanth   \n",
       "\n",
       "                                                    text  \n",
       "48151  amitabh harivansh bachchan ipa mtab bttn born ...  \n",
       "23229  dilip kumar born muhammad yusuf khan on 11 dec...  \n",
       "13267  aamir khan pronounced amr xan born mohammed aa...  \n",
       "58790  jaya bachchan bengali hindi urdu born jaya bha...  \n",
       "25394  mohanlal viswanathan nair born 21 may 1960 bet...  \n",
       "26948  chiranjeevi born konidela siva sankara vara pr...  \n",
       "331    mammootty born as muhammad kutty ismail panipa...  \n",
       "41897  kattassery joseph yesudas malayalam born 10 ja...  \n",
       "50670  drjasbir singh bajaj is an indian physician an...  \n",
       "7504   rajinikanth born shivaji rao gaekwad 12 decemb...  "
      ]
     },
     "execution_count": 19,
     "metadata": {},
     "output_type": "execute_result"
    }
   ],
   "source": [
    "people.iloc[neighbours[0]]"
   ]
  },
  {
   "cell_type": "markdown",
   "metadata": {},
   "source": [
    "# Unknown Actor"
   ]
  },
  {
   "cell_type": "code",
   "execution_count": 22,
   "metadata": {},
   "outputs": [],
   "source": [
    "some_actor = \"he is the best of his time\"\n",
    "unkown_actor = tfidf_vect.transform([some_actor])# do not use fit transform"
   ]
  },
  {
   "cell_type": "code",
   "execution_count": 24,
   "metadata": {},
   "outputs": [],
   "source": [
    "score, neighbours = nn_fitted.kneighbors(unkown_actor)"
   ]
  },
  {
   "cell_type": "code",
   "execution_count": 25,
   "metadata": {},
   "outputs": [
    {
     "data": {
      "text/html": [
       "<div>\n",
       "<style scoped>\n",
       "    .dataframe tbody tr th:only-of-type {\n",
       "        vertical-align: middle;\n",
       "    }\n",
       "\n",
       "    .dataframe tbody tr th {\n",
       "        vertical-align: top;\n",
       "    }\n",
       "\n",
       "    .dataframe thead th {\n",
       "        text-align: right;\n",
       "    }\n",
       "</style>\n",
       "<table border=\"1\" class=\"dataframe\">\n",
       "  <thead>\n",
       "    <tr style=\"text-align: right;\">\n",
       "      <th></th>\n",
       "      <th>URI</th>\n",
       "      <th>name</th>\n",
       "      <th>text</th>\n",
       "    </tr>\n",
       "  </thead>\n",
       "  <tbody>\n",
       "    <tr>\n",
       "      <th>30161</th>\n",
       "      <td>&lt;http://dbpedia.org/resource/Enzo_Zelocchi&gt;</td>\n",
       "      <td>Enzo Zelocchi</td>\n",
       "      <td>enzo zelocchi born 10 october 1983 is an itali...</td>\n",
       "    </tr>\n",
       "    <tr>\n",
       "      <th>20551</th>\n",
       "      <td>&lt;http://dbpedia.org/resource/Tim_Taylor_(produ...</td>\n",
       "      <td>Tim Taylor (producer)</td>\n",
       "      <td>professor timothy tim taylor is a british tele...</td>\n",
       "    </tr>\n",
       "    <tr>\n",
       "      <th>47383</th>\n",
       "      <td>&lt;http://dbpedia.org/resource/Alfonso_Cuar%C3%B3n&gt;</td>\n",
       "      <td>Alfonso Cuar%C3%B3n</td>\n",
       "      <td>alfonso cuarn orozco spanish pronunciation alf...</td>\n",
       "    </tr>\n",
       "    <tr>\n",
       "      <th>29112</th>\n",
       "      <td>&lt;http://dbpedia.org/resource/Richard_Best,_Bar...</td>\n",
       "      <td>Richard Best, Baron Best</td>\n",
       "      <td>richard stuart best baron best obe born 22 jun...</td>\n",
       "    </tr>\n",
       "    <tr>\n",
       "      <th>46069</th>\n",
       "      <td>&lt;http://dbpedia.org/resource/Joe_Glasman&gt;</td>\n",
       "      <td>Joe Glasman</td>\n",
       "      <td>joe glasman is a british composer songwriter a...</td>\n",
       "    </tr>\n",
       "    <tr>\n",
       "      <th>40383</th>\n",
       "      <td>&lt;http://dbpedia.org/resource/Reid_Coolsaet&gt;</td>\n",
       "      <td>Reid Coolsaet</td>\n",
       "      <td>reid coolsaet born july 29 1979 is a canadian ...</td>\n",
       "    </tr>\n",
       "    <tr>\n",
       "      <th>36399</th>\n",
       "      <td>&lt;http://dbpedia.org/resource/Ra%C3%BAl_Spank&gt;</td>\n",
       "      <td>Ra%C3%BAl Spank</td>\n",
       "      <td>ral roland spank born 13 july 1988 is a german...</td>\n",
       "    </tr>\n",
       "    <tr>\n",
       "      <th>16293</th>\n",
       "      <td>&lt;http://dbpedia.org/resource/Abdellah_Falil&gt;</td>\n",
       "      <td>Abdellah Falil</td>\n",
       "      <td>abdellah falil arabic born 1976 is a moroccan ...</td>\n",
       "    </tr>\n",
       "    <tr>\n",
       "      <th>58261</th>\n",
       "      <td>&lt;http://dbpedia.org/resource/Kevin_McCollum&gt;</td>\n",
       "      <td>Kevin McCollum</td>\n",
       "      <td>kevin mccollum is one of the leading producers...</td>\n",
       "    </tr>\n",
       "    <tr>\n",
       "      <th>53023</th>\n",
       "      <td>&lt;http://dbpedia.org/resource/Ray_Kimble&gt;</td>\n",
       "      <td>Ray Kimble</td>\n",
       "      <td>ray kimble born april 19 1953 is an american t...</td>\n",
       "    </tr>\n",
       "  </tbody>\n",
       "</table>\n",
       "</div>"
      ],
      "text/plain": [
       "                                                     URI  \\\n",
       "30161        <http://dbpedia.org/resource/Enzo_Zelocchi>   \n",
       "20551  <http://dbpedia.org/resource/Tim_Taylor_(produ...   \n",
       "47383  <http://dbpedia.org/resource/Alfonso_Cuar%C3%B3n>   \n",
       "29112  <http://dbpedia.org/resource/Richard_Best,_Bar...   \n",
       "46069          <http://dbpedia.org/resource/Joe_Glasman>   \n",
       "40383        <http://dbpedia.org/resource/Reid_Coolsaet>   \n",
       "36399      <http://dbpedia.org/resource/Ra%C3%BAl_Spank>   \n",
       "16293       <http://dbpedia.org/resource/Abdellah_Falil>   \n",
       "58261       <http://dbpedia.org/resource/Kevin_McCollum>   \n",
       "53023           <http://dbpedia.org/resource/Ray_Kimble>   \n",
       "\n",
       "                           name  \\\n",
       "30161             Enzo Zelocchi   \n",
       "20551     Tim Taylor (producer)   \n",
       "47383       Alfonso Cuar%C3%B3n   \n",
       "29112  Richard Best, Baron Best   \n",
       "46069               Joe Glasman   \n",
       "40383             Reid Coolsaet   \n",
       "36399           Ra%C3%BAl Spank   \n",
       "16293            Abdellah Falil   \n",
       "58261            Kevin McCollum   \n",
       "53023                Ray Kimble   \n",
       "\n",
       "                                                    text  \n",
       "30161  enzo zelocchi born 10 october 1983 is an itali...  \n",
       "20551  professor timothy tim taylor is a british tele...  \n",
       "47383  alfonso cuarn orozco spanish pronunciation alf...  \n",
       "29112  richard stuart best baron best obe born 22 jun...  \n",
       "46069  joe glasman is a british composer songwriter a...  \n",
       "40383  reid coolsaet born july 29 1979 is a canadian ...  \n",
       "36399  ral roland spank born 13 july 1988 is a german...  \n",
       "16293  abdellah falil arabic born 1976 is a moroccan ...  \n",
       "58261  kevin mccollum is one of the leading producers...  \n",
       "53023  ray kimble born april 19 1953 is an american t...  "
      ]
     },
     "execution_count": 25,
     "metadata": {},
     "output_type": "execute_result"
    }
   ],
   "source": [
    "people.iloc[neighbours[0]]"
   ]
  },
  {
   "cell_type": "markdown",
   "metadata": {},
   "source": [
    "# Count Vect"
   ]
  },
  {
   "cell_type": "code",
   "execution_count": 26,
   "metadata": {},
   "outputs": [],
   "source": [
    "from sklearn.feature_extraction.text import CountVectorizer\n",
    "count_vect = CountVectorizer() \n",
    "X_train_count = count_vect.fit_transform(people.text)"
   ]
  },
  {
   "cell_type": "code",
   "execution_count": 27,
   "metadata": {},
   "outputs": [],
   "source": [
    "nn_fitted_cv = nn.fit(X_train_count)"
   ]
  },
  {
   "cell_type": "code",
   "execution_count": 28,
   "metadata": {},
   "outputs": [],
   "source": [
    "score, neighbours = nn_fitted_cv.kneighbors(X_train_count[index:])"
   ]
  },
  {
   "cell_type": "code",
   "execution_count": null,
   "metadata": {},
   "outputs": [],
   "source": []
  },
  {
   "cell_type": "code",
   "execution_count": null,
   "metadata": {},
   "outputs": [],
   "source": []
  }
 ],
 "metadata": {
  "kernelspec": {
   "display_name": "Python 3",
   "language": "python",
   "name": "python3"
  },
  "language_info": {
   "codemirror_mode": {
    "name": "ipython",
    "version": 3
   },
   "file_extension": ".py",
   "mimetype": "text/x-python",
   "name": "python",
   "nbconvert_exporter": "python",
   "pygments_lexer": "ipython3",
   "version": "3.6.9"
  }
 },
 "nbformat": 4,
 "nbformat_minor": 2
}
