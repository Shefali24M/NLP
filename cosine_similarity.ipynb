{
 "cells": [
  {
   "cell_type": "markdown",
   "metadata": {},
   "source": [
    "# Cosine Similarity"
   ]
  },
  {
   "cell_type": "code",
   "execution_count": 33,
   "metadata": {},
   "outputs": [],
   "source": [
    "from nltk.corpus import stopwords\n",
    "from nltk.tokenize import word_tokenize\n",
    "import math\n",
    "\n",
    "stop_words = stopwords.words('english')\n",
    "\n",
    "X = \"I love horror movies movies movies\".lower()\n",
    "Y = \"I also love horror movies\".lower()\n",
    "\n",
    "x_list = word_tokenize(X)\n",
    "y_list = word_tokenize(Y)\n",
    "\n",
    "features = sorted(list(set(x_list + y_list)))\n",
    "features = [each for each in features if each not in stop_words]\n",
    "\n",
    "l1 = [0] * len(features)\n",
    "l2 = [0] * len(features)\n",
    "\n",
    "\n",
    "# intially l1 & l2 are 0 now we will populate it.\n",
    "\n",
    "for index,each in enumerate(features):\n",
    "    if each in x_list:\n",
    "        l1[index] = x_list.count(each)\n",
    "    if each in y_list:\n",
    "        l2[index] = y_list.count(each)\n"
   ]
  },
  {
   "cell_type": "code",
   "execution_count": 17,
   "metadata": {},
   "outputs": [
    {
     "data": {
      "text/plain": [
       "[0, 1, 1, 3]"
      ]
     },
     "execution_count": 17,
     "metadata": {},
     "output_type": "execute_result"
    }
   ],
   "source": [
    "l1"
   ]
  },
  {
   "cell_type": "code",
   "execution_count": 18,
   "metadata": {},
   "outputs": [
    {
     "data": {
      "text/plain": [
       "[1, 1, 1, 1]"
      ]
     },
     "execution_count": 18,
     "metadata": {},
     "output_type": "execute_result"
    }
   ],
   "source": [
    "l2"
   ]
  },
  {
   "cell_type": "code",
   "execution_count": 16,
   "metadata": {},
   "outputs": [
    {
     "data": {
      "text/plain": [
       "['also', 'horror', 'love', 'movies']"
      ]
     },
     "execution_count": 16,
     "metadata": {},
     "output_type": "execute_result"
    }
   ],
   "source": [
    "features"
   ]
  },
  {
   "cell_type": "code",
   "execution_count": 21,
   "metadata": {},
   "outputs": [],
   "source": [
    "#Calculate the cosine similarity B/w l1 & l2"
   ]
  },
  {
   "cell_type": "code",
   "execution_count": 47,
   "metadata": {},
   "outputs": [],
   "source": [
    "def cosine_sim(l1,l2):\n",
    "    mul = [l1[i] * l2[i] for i in range (len(l1))]\n",
    "    num = 0\n",
    "    for i in range (0,len(mul)):\n",
    "        num = num + mul[i]\n",
    "    \n",
    "    \n",
    "    l1_sqr = [l1[i] * l1[i] for i in range (len(l1))]\n",
    "    l1_sum = 0\n",
    "    for i in range(0, len(l1_sqr)):\n",
    "        l1_sum = l1_sum + l1_sqr[i]\n",
    "\n",
    "    \n",
    "    l2_sqr = [l2[i] * l2[i] for i in range (len(l2))]\n",
    "    l2_sum = 0\n",
    "    for i in range(0, len(l2_sqr)):\n",
    "        l2_sum = l2_sum + l2_sqr[i]\n",
    "\n",
    "    \n",
    "    d1 = math.sqrt(l1_sum)\n",
    "    d2 = math.sqrt(l2_sum)\n",
    "    dnm = d1 * d2\n",
    "    cos = num / dnm\n",
    "    return cos\n",
    "    \n"
   ]
  },
  {
   "cell_type": "code",
   "execution_count": 49,
   "metadata": {},
   "outputs": [
    {
     "data": {
      "text/plain": [
       "0.753778361444409"
      ]
     },
     "execution_count": 49,
     "metadata": {},
     "output_type": "execute_result"
    }
   ],
   "source": [
    "cosine_sim(l1,l2)"
   ]
  },
  {
   "cell_type": "code",
   "execution_count": null,
   "metadata": {},
   "outputs": [],
   "source": [
    "#by using function"
   ]
  },
  {
   "cell_type": "code",
   "execution_count": 51,
   "metadata": {},
   "outputs": [],
   "source": [
    "from sklearn.feature_extraction.text import CountVectorizer\n",
    "cv = CountVectorizer()\n",
    "data = cv.fit_transform([X,Y])"
   ]
  },
  {
   "cell_type": "code",
   "execution_count": 52,
   "metadata": {},
   "outputs": [
    {
     "data": {
      "text/plain": [
       "array([[0, 1, 1, 3],\n",
       "       [1, 1, 1, 1]])"
      ]
     },
     "execution_count": 52,
     "metadata": {},
     "output_type": "execute_result"
    }
   ],
   "source": [
    "data.toarray()"
   ]
  },
  {
   "cell_type": "code",
   "execution_count": 53,
   "metadata": {},
   "outputs": [],
   "source": [
    "from sklearn.metrics.pairwise import cosine_similarity"
   ]
  },
  {
   "cell_type": "code",
   "execution_count": 54,
   "metadata": {},
   "outputs": [
    {
     "data": {
      "text/plain": [
       "array([[1.        , 0.75377836],\n",
       "       [0.75377836, 1.        ]])"
      ]
     },
     "execution_count": 54,
     "metadata": {},
     "output_type": "execute_result"
    }
   ],
   "source": [
    "cosine_similarity(data)"
   ]
  },
  {
   "cell_type": "code",
   "execution_count": null,
   "metadata": {},
   "outputs": [],
   "source": []
  },
  {
   "cell_type": "code",
   "execution_count": null,
   "metadata": {},
   "outputs": [],
   "source": []
  },
  {
   "cell_type": "code",
   "execution_count": null,
   "metadata": {},
   "outputs": [],
   "source": []
  }
 ],
 "metadata": {
  "kernelspec": {
   "display_name": "Python 3",
   "language": "python",
   "name": "python3"
  },
  "language_info": {
   "codemirror_mode": {
    "name": "ipython",
    "version": 3
   },
   "file_extension": ".py",
   "mimetype": "text/x-python",
   "name": "python",
   "nbconvert_exporter": "python",
   "pygments_lexer": "ipython3",
   "version": "3.6.9"
  }
 },
 "nbformat": 4,
 "nbformat_minor": 2
}
